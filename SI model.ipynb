{
 "cells": [
  {
   "cell_type": "code",
   "execution_count": 10,
   "id": "cc49ca6f",
   "metadata": {},
   "outputs": [
    {
     "name": "stdout",
     "output_type": "stream",
     "text": [
      "\n",
      "Begin simulations \n",
      "\n",
      "Simulation 1 complete\n",
      "Simulation 2 complete\n",
      "Simulation 3 complete\n",
      "Simulation 4 complete\n",
      "Simulation 5 complete\n",
      "Simulation 6 complete\n",
      "Simulation 7 complete\n",
      "Simulation 8 complete\n",
      "Simulation 9 complete\n",
      "Simulation 10 complete\n",
      "\n",
      "Begin EWS computation\n",
      "\n",
      "EWS for realisation 1 complete\n",
      "EWS for realisation 2 complete\n",
      "EWS for realisation 3 complete\n",
      "EWS for realisation 4 complete\n",
      "EWS for realisation 5 complete\n",
      "EWS for realisation 6 complete\n",
      "EWS for realisation 7 complete\n",
      "EWS for realisation 8 complete\n",
      "EWS for realisation 9 complete\n",
      "EWS for realisation 10 complete\n"
     ]
    },
    {
     "data": {
      "text/plain": [
       "Text(0, 0.5, 'beta')"
      ]
     },
     "execution_count": 10,
     "metadata": {},
     "output_type": "execute_result"
    },
    {
     "data": {
      "image/png": "[encoded data removed]",
      "text/plain": [
       "<Figure size 432x288 with 1 Axes>"
      ]
     },
     "metadata": {
      "needs_background": "light"
     },
     "output_type": "display_data"
    }
   ],
   "source": [
    "# import python libraries\n",
    "import numpy as np\n",
    "import pandas as pd\n",
    "import matplotlib as mlp\n",
    "import matplotlib.pyplot as plt\n",
    "import seaborn as sns\n",
    "import os\n",
    "import ewstools\n",
    "\n",
    "\n",
    "#--------------------------------\n",
    "# Global parameters\n",
    "#–-----------------------------\n",
    "\n",
    "\n",
    "# Simulation parameters\n",
    "dt = 0.01\n",
    "t0 = 0\n",
    "tmax = 1500\n",
    "tburn = 100 # burn-in period\n",
    "numSims = 10\n",
    "seed = 0 # random number generation seed\n",
    "\n",
    "# EWS parameters\n",
    "dt2 = 1 # spacing between time-series for EWS computation\n",
    "rw = 0.25 # rolling window\n",
    "span=0.2 # span for Lowess smoothing\n",
    "lags = [1] # autocorrelation lag times\n",
    "ews = ['var','ac']\n",
    "\n",
    "#----------------------------------\n",
    "# Simulate many (transient) realisations\n",
    "#----------------------------------\n",
    "\n",
    "# Model (see gellner et al. 2016)\n",
    "\n",
    "def de_fun_S(S,I,Lambda,beta,mu):\n",
    "    return Lambda-beta*S*I-mu*S\n",
    "\n",
    "def de_fun_I(S,I,beta,alpha,mu):\n",
    "    return beta*S*I- alpha*I-mu*I\n",
    "    \n",
    "# Model parameters\n",
    "#sf = 4 # scale factor\n",
    "sigma_S = 0.05 # noise intensity\n",
    "sigma_I = 0.05\n",
    "Lambda = 10\n",
    "mu=0.1\n",
    "alpha=1\n",
    "betal = 0.001 # control parameter initial value\n",
    "#betah = 0.002# control parameter final value\n",
    "betah = 0.02# control parameter final value\n",
    "betabif = 0.01# bifurcation point (computed in Mathematica)\n",
    "S0 = 73.338 # intial condition (equilibrium value computed in Mathematica)\n",
    "I0 = 2.424\n",
    "\n",
    "\n",
    "# initialise DataFrame for each variable to store all realisations\n",
    "df_sims_S = pd.DataFrame([])\n",
    "df_sims_I = pd.DataFrame([])\n",
    "\n",
    "# Initialise arrays to store single time-series data\n",
    "t = np.arange(t0,tmax,dt)\n",
    "S = np.zeros(len(t))\n",
    "I = np.zeros(len(t))\n",
    "\n",
    "# Set up control parameter a, that increases linearly in time from al to ah\n",
    "#R0 = pd.Series(np.linspace(betal/(alpha+mu),betah/(alpha+mu),len(t)),index=t)\n",
    "#R_0 = beta/(alpha+mu);\n",
    "beta = pd.Series(np.linspace(betal,betah,len(t)),index=t)\n",
    "#R_0 = beta/(alpha+mu);\n",
    "# Time at which bifurcation occurs\n",
    "tbif = beta[beta > betabif].index[1]\n",
    "#print('tbif')\n",
    "\n",
    "## Implement Euler Maryuyama for stocahstic simulation\n",
    "\n",
    "\n",
    "# Set seed\n",
    "np.random.seed(seed)\n",
    "\n",
    "# Initialise a list to collect trajectories\n",
    "list_traj_append = []\n",
    "\n",
    "# loop over simulations\n",
    "print('\\nBegin simulations \\n')\n",
    "for j in range(numSims):\n",
    "    \n",
    "    \n",
    "    # Create brownian increments (s.d. sqrt(dt)) create a array with mean o s.d. \n",
    "    dW_S_burn = np.random.normal(loc=0, scale=sigma_S*np.sqrt(dt), size = int(tburn/dt))\n",
    "    dW_S = np.random.normal(loc=0, scale=sigma_S*np.sqrt(dt), size = len(t))\n",
    "    \n",
    "    dW_I_burn = np.random.normal(loc=0, scale=sigma_I*np.sqrt(dt), size = int(tburn/dt))\n",
    "    dW_I = np.random.normal(loc=0, scale=sigma_I*np.sqrt(dt), size = len(t))\n",
    "    \n",
    "    # Run burn-in period on x0\n",
    "    for i in range(int(tburn/dt)):\n",
    "        S0 = S0 + de_fun_S(S0,I0,Lambda,beta[0],mu)*dt + dW_S_burn[i]\n",
    "        I0 = I0 + de_fun_I(S0,I0,beta[0],alpha,mu)*dt + dW_I_burn[i]\n",
    "        \n",
    "    # Initial condition post burn-in period\n",
    "    S[0]=S0\n",
    "    I[0]=I0\n",
    "    \n",
    "    # Run simulation\n",
    "    for i in range(len(t)-1):\n",
    "        S[i+1] = S[i] + de_fun_S(S[i],I[i],Lambda,beta.iloc[i],mu)*dt + dW_S[i]\n",
    "        I[i+1] = I[i] + de_fun_I(S[i],I[i], beta.iloc[i],alpha,mu)*dt + dW_I[i]\n",
    "        # make sure that state variable remains >= 0 \n",
    "        if S[i+1] < 0:\n",
    "            S[i+1] = 0\n",
    "        if I[i+1] < 0:\n",
    "            I[i+1] = 0\n",
    "            \n",
    "    # Store series data in a temporary DataFrame\n",
    "    data = {'tsid': (j+1)*np.ones(len(t)),\n",
    "                'Time': t,\n",
    "                'S': S,\n",
    "                'I': I}\n",
    "    df_temp = pd.DataFrame(data)\n",
    "    # Append to list\n",
    "    list_traj_append.append(df_temp)\n",
    "    \n",
    "    print('Simulation '+str(j+1)+' complete')\n",
    "\n",
    "#  Concatenate DataFrame from each realisation\n",
    "df_traj = pd.concat(list_traj_append)\n",
    "df_traj.set_index(['tsid','Time'], inplace=True)\n",
    "\n",
    "\n",
    "#----------------------\n",
    "# Compute EWS for each simulation in x and y\n",
    "#---------------------\n",
    "\n",
    "# Filter time-series to have time-spacing dt2\n",
    "df_traj_filt = df_traj.loc[::int(dt2/dt)]\n",
    "\n",
    "# set up a list to store output dataframes from ews_compute- we will concatenate them at the end\n",
    "appended_ews = []\n",
    "appended_pspec = []\n",
    "\n",
    "# loop through realisation number\n",
    "print('\\nBegin EWS computation\\n')\n",
    "for i in range(numSims):\n",
    "    # loop through variable\n",
    "    for var in ['S','I']:\n",
    "        \n",
    "        ews_dic = ewstools.core.ews_compute(df_traj_filt.loc[i+1][var], \n",
    "                          roll_window = rw, \n",
    "                          smooth='Lowess',\n",
    "                          span = span,\n",
    "                          lag_times = lags, \n",
    "                          ews = ews,\n",
    "                          upto=tbif)\n",
    "        \n",
    "        # The DataFrame of EWS\n",
    "        df_ews_temp = ews_dic['EWS metrics']\n",
    "      \n",
    "        # Include a column in the DataFrames for realisation number and variable\n",
    "        df_ews_temp['tsid'] = i+1\n",
    "        df_ews_temp['Variable'] = var\n",
    "                        \n",
    "        # Add DataFrames to list\n",
    "        appended_ews.append(df_ews_temp)\n",
    "        \n",
    "    # Print status every realisation\n",
    "    if np.remainder(i+1,1)==0:\n",
    "        print('EWS for realisation '+str(i+1)+' complete')\n",
    "\n",
    "\n",
    "# Concatenate EWS DataFrames. Index [tsid, Variable, Time]\n",
    "df_ews = pd.concat(appended_ews).reset_index().set_index(['tsid','Variable','Time'])\n",
    "\n",
    "\n",
    "\n",
    "# #-------------------------\n",
    "# # Plots to visualise EWS\n",
    "# #-------------------------\n",
    "\n",
    "# # Trajectory\n",
    "#df_ews.loc[1][['State variable','Smoothing']].unstack(level=0).plot()\n",
    "\n",
    "\n",
    "# # Realisation number to plot\n",
    "plot_num = 4\n",
    "var = 'I'\n",
    "# ## Plot of trajectory, smoothing and EWS of var (x or y)\n",
    "#fig1, axes = plt.plot(sharex=True, figsize=(6,6))\n",
    "\n",
    "#plt.axvline(710.54, color ='r',linestyle = 'dashed')\n",
    "#ax1.plot()\n",
    "df_ews = df_ews.sort_index()\n",
    "\n",
    "df_ews = df_ews.sort_index()\n",
    "df_ews_branch = pd.read_csv('./data/ews/df_ews_forced_trans.csv')\n",
    "t_transition_branch = df_ews_branch[['Time','Residuals']].dropna()['Time'].iloc[-1]\n",
    "\n",
    "\n",
    "\n",
    "# Import EWS data\n",
    "\n",
    "# df_ews_branch = pd.read_csv('./data/ews/df_ews_forced_trans.csv')\n",
    "\n",
    "\n",
    "# # # Import ML prediction data\n",
    "# # df_ml_fold = pd.read_csv('../test_models/may_fold_1500/data/ml_preds/df_ml_forced.csv')\n",
    "# # df_ml_hopf = pd.read_csv('../test_models/cr_hopf_1500/data/ml_preds/df_ml_forced.csv')\n",
    "# # df_ml_branch = pd.read_csv('../test_models/cr_trans_1500/data/ml_preds/df_ml_forced.csv')\n",
    "\n",
    "\n",
    "# # Get transition times\n",
    "# # t_transition_fold = df_ews_fold[['Time','Residuals']].dropna()['Time'].iloc[-1]\n",
    "# # t_transition_hopf = df_ews_hopf[['Time','Residuals']].dropna()['Time'].iloc[-1]\n",
    "# t_transition_branch = df_ews_branch[['Time','Residuals']].dropna()['Time'].iloc[-1]\n",
    "\n",
    "\n",
    "\n",
    "# Vertical lines for where transitions occur\n",
    "\n",
    "#  Line for fold transition\n",
    "# list_shapes = []\n",
    "# linewidth = 0.7\n",
    "# shape = {'type': 'line', \n",
    "#           'x0': t_transition_branch, \n",
    "#           'y0': 0, \n",
    "#           'x1': t_transition_branch, \n",
    "#           'y1': 1, \n",
    "#           'xref': 'x', \n",
    "#           'yref': 'paper',\n",
    "#           'line': {'width':linewidth,'--':'dot'},\n",
    "#           }\n",
    "# list_shapes.append(shape)\n",
    "\n",
    "#fig1, axes = plt.plots(figsize=(7,7))\n",
    "#plt.axvline(710.54, color ='r',linestyle = 'dashed')\n",
    "#ax1.plot()\n",
    "#ax1.plot()\n",
    "#df_ews = df_ews.sort_index()\n",
    "\n",
    "df_ews = df_ews.sort_index()\n",
    "color1= 'blue'\n",
    "#df_ews.loc[plot_num,var][['State variable','Smoothing']].plot(ax=axes[0]) \n",
    "plt.axvline(710.54, color ='r',linestyle = 'dashed')\n",
    "df_ews.loc[plot_num,var][['State variable']].plot(ax=axes, legend=False, color = color1) \n",
    "axes.set_ylabel('Infected indididual', color=color1)\n",
    "\n",
    "axes2 = axes.twinx()\n",
    "color2= 'orange'\n",
    "axes2.plot(t, beta, color= color2)\n",
    "axes2.set_ylabel('beta',color= color2)\n",
    "\n",
    "#title='Early warning signals for a single realisation')\n",
    "# df_ews.loc[plot_num,var]['Residuals'].plot(ax=axes[1],legend=True)\n",
    "# df_ews.loc[plot_num,var]['Variance'].plot(ax=axes[2],legend=True)\n",
    "# df_ews.loc[plot_num,var]['Lag-1 AC'].plot(ax=axes[3],legend=True)\n",
    "\n",
    "\n",
    "# # ## Plot of trajectory, smoothing and EWS of var (x or y)\n",
    "#fig1, axes = plt.subplots(nrows=2, ncols=1, sharex=True, figsize=(6,6))\n",
    "# #fig1, axes = plt.subplots()\n",
    "# plt.axvline(710.54, color ='r',linestyle = 'dashed')\n",
    "# df_ews.loc[plot_num,var][['State variable','Smoothing']].plot(ax=axes[0],\n",
    "#           title='Early warning signals for a single realisation')\n",
    "\n",
    "\n",
    "# df_ews.loc[plot_num,var]['Lag-1 AC'].plot(ax=axes[1],legend=True)\n",
    "# df_ews.loc[plot_num,var]['Variance'].plot(ax=axes[0],legend=True)\n",
    "# plt.savefig(\"generic_ews.\")\n",
    "\n",
    "#------------------------------------\n",
    "## Export data / figures\n",
    "#-----------------------------------\n",
    "\n",
    "#Export EWS data\n",
    "#df_ews.to_csv('data/ews/df_ews_forced_trans.csv')\n",
    "\n",
    "# #Export individual resids files (for Chris)\n",
    "# for i in np.arange(numSims)+1:\n",
    "#     df_traj.to_csv('data/SI_trans_traj_{}.csv',index=False)\n",
    "#     df_resids = df_ews.loc[i,'I'].reset_index()[['Time','Residuals']]\n",
    "#     filepath='data/resids/cr_sd_1500_resids_{}.csv'.format(i)\n",
    "#     df_resids.to_csv(filepath,index=False)\n",
    "    \n",
    "# for i in np.arange(numSims)+1:\n",
    "#    df_resids = df_ews.loc[i,'I'].reset_index()[['Time','Residuals']]\n",
    "#    filepath='data/resids/sir_sd_1500_resids_{}.csv'.format(i)\n",
    "#    df_resids.to_csv(filepath,index=False)\n",
    "    \n",
    "\n",
    "\n",
    "\n"
   ]
  },
  {
   "cell_type": "code",
   "execution_count": 7,
   "id": "744aedbe",
   "metadata": {},
   "outputs": [
    {
     "name": "stdout",
     "output_type": "stream",
     "text": [
      "710.54\n"
     ]
    }
   ],
   "source": [
    "print(tbif)\n"
   ]
  },
  {
   "cell_type": "code",
   "execution_count": 61,
   "id": "8f2ca536",
   "metadata": {},
   "outputs": [
    {
     "name": "stdout",
     "output_type": "stream",
     "text": [
      "1282.82\n"
     ]
    }
   ],
   "source": [
    "print(tbif)"
   ]
  },
  {
   "cell_type": "code",
   "execution_count": 8,
   "id": "ae9721ef",
   "metadata": {},
   "outputs": [
    {
     "ename": "TypeError",
     "evalue": "'tbif' is an invalid keyword argument for print()",
     "output_type": "error",
     "traceback": [
      "\u001b[0;31m---------------------------------------------------------------------------\u001b[0m",
      "\u001b[0;31mTypeError\u001b[0m                                 Traceback (most recent call last)",
      "Input \u001b[0;32mIn [8]\u001b[0m, in \u001b[0;36m<cell line: 1>\u001b[0;34m()\u001b[0m\n\u001b[0;32m----> 1\u001b[0m \u001b[38;5;28;43mprint\u001b[39;49m\u001b[43m(\u001b[49m\u001b[43mtbif\u001b[49m\u001b[43m \u001b[49m\u001b[38;5;241;43m=\u001b[39;49m\u001b[43m \u001b[49m\u001b[43mbeta\u001b[49m\u001b[43m[\u001b[49m\u001b[43mbeta\u001b[49m\u001b[43m \u001b[49m\u001b[38;5;241;43m>\u001b[39;49m\u001b[43m \u001b[49m\u001b[43mbetabif\u001b[49m\u001b[43m]\u001b[49m\u001b[38;5;241;43m.\u001b[39;49m\u001b[43mindex\u001b[49m\u001b[43m[\u001b[49m\u001b[38;5;241;43m1\u001b[39;49m\u001b[43m]\u001b[49m\u001b[43m)\u001b[49m\n",
      "\u001b[0;31mTypeError\u001b[0m: 'tbif' is an invalid keyword argument for print()"
     ]
    }
   ],
   "source": [
    "print(tbif = beta[beta > betabif].index[1])\n"
   ]
  },
  {
   "cell_type": "code",
   "execution_count": 24,
   "id": "3b9b2e81",
   "metadata": {},
   "outputs": [
    {
     "name": "stdout",
     "output_type": "stream",
     "text": [
      "600.01\n"
     ]
    }
   ],
   "source": [
    "print(tbif)"
   ]
  },
  {
   "cell_type": "code",
   "execution_count": 21,
   "id": "8ad98be1",
   "metadata": {},
   "outputs": [
    {
     "name": "stdout",
     "output_type": "stream",
     "text": [
      "                      S         I\n",
      "tsid Time                        \n",
      "1.0  0.00     99.996704 -0.006223\n",
      "     0.01     99.996536  0.000000\n",
      "     0.02     99.995706  0.000656\n",
      "     0.03     99.997441  0.000000\n",
      "     0.04     99.997634  0.000000\n",
      "...                 ...       ...\n",
      "10.0 1499.95  55.086059  4.078169\n",
      "     1499.96  55.085087  4.078226\n",
      "     1499.97  55.084624  4.078058\n",
      "     1499.98  55.085149  4.079822\n",
      "     1499.99  55.085105  4.078705\n",
      "\n",
      "[1500000 rows x 2 columns]\n"
     ]
    }
   ],
   "source": [
    "print(df_traj)"
   ]
  },
  {
   "cell_type": "code",
   "execution_count": 22,
   "id": "a71e83a3",
   "metadata": {},
   "outputs": [
    {
     "name": "stdout",
     "output_type": "stream",
     "text": [
      "                      S         I\n",
      "tsid Time                        \n",
      "1.0  0.00     99.996704 -0.006223\n",
      "     0.01     99.996536  0.000000\n",
      "     0.02     99.995706  0.000656\n",
      "     0.03     99.997441  0.000000\n",
      "     0.04     99.997634  0.000000\n",
      "...                 ...       ...\n",
      "10.0 1499.95  55.086059  4.078169\n",
      "     1499.96  55.085087  4.078226\n",
      "     1499.97  55.084624  4.078058\n",
      "     1499.98  55.085149  4.079822\n",
      "     1499.99  55.085105  4.078705\n",
      "\n",
      "[1500000 rows x 2 columns]\n"
     ]
    }
   ],
   "source": [
    "print(df_traj)"
   ]
  },
  {
   "cell_type": "code",
   "execution_count": 42,
   "id": "71d04c0e",
   "metadata": {},
   "outputs": [
    {
     "name": "stdout",
     "output_type": "stream",
     "text": [
      "600.01\n"
     ]
    }
   ],
   "source": [
    "print(tbif)"
   ]
  },
  {
   "cell_type": "code",
   "execution_count": 43,
   "id": "b08056eb",
   "metadata": {},
   "outputs": [
    {
     "name": "stdout",
     "output_type": "stream",
     "text": [
      "                      S         I\n",
      "tsid Time                        \n",
      "1.0  0.00     62.502036 -0.005383\n",
      "     0.01     62.501848  0.000000\n",
      "     0.02     62.501012  0.000656\n",
      "     0.03     62.502742  0.000000\n",
      "     0.04     62.502928  0.000000\n",
      "...                 ...       ...\n",
      "10.0 1499.95  58.621262  0.528243\n",
      "     1499.96  58.620318  0.528297\n",
      "     1499.97  58.619883  0.528126\n",
      "     1499.98  58.620436  0.529886\n",
      "     1499.99  58.620420  0.528765\n",
      "\n",
      "[1500000 rows x 2 columns]\n"
     ]
    }
   ],
   "source": [
    "print(df_traj)"
   ]
  },
  {
   "cell_type": "code",
   "execution_count": 44,
   "id": "180b78a9",
   "metadata": {},
   "outputs": [
    {
     "name": "stdout",
     "output_type": "stream",
     "text": [
      "600.01\n"
     ]
    }
   ],
   "source": [
    "print(tbif)"
   ]
  },
  {
   "cell_type": "code",
   "execution_count": 46,
   "id": "a2cf85b6",
   "metadata": {},
   "outputs": [
    {
     "ename": "TypeError",
     "evalue": "'Series' object is not callable",
     "output_type": "error",
     "traceback": [
      "\u001b[0;31m---------------------------------------------------------------------------\u001b[0m",
      "\u001b[0;31mTypeError\u001b[0m                                 Traceback (most recent call last)",
      "Input \u001b[0;32mIn [46]\u001b[0m, in \u001b[0;36m<cell line: 1>\u001b[0;34m()\u001b[0m\n\u001b[0;32m----> 1\u001b[0m \u001b[43mR_0\u001b[49m\u001b[43m(\u001b[49m\u001b[43mt\u001b[49m\u001b[43m)\u001b[49m\n",
      "\u001b[0;31mTypeError\u001b[0m: 'Series' object is not callable"
     ]
    }
   ],
   "source": [
    "R_0(t)"
   ]
  },
  {
   "cell_type": "code",
   "execution_count": 47,
   "id": "2adc6b0f",
   "metadata": {},
   "outputs": [
    {
     "data": {
      "text/plain": [
       "0.00       0.004310\n",
       "0.01       0.004310\n",
       "0.02       0.004311\n",
       "0.03       0.004311\n",
       "0.04       0.004311\n",
       "             ...   \n",
       "1499.95    0.017241\n",
       "1499.96    0.017241\n",
       "1499.97    0.017241\n",
       "1499.98    0.017241\n",
       "1499.99    0.017241\n",
       "Length: 150000, dtype: float64"
      ]
     },
     "execution_count": 47,
     "metadata": {},
     "output_type": "execute_result"
    }
   ],
   "source": [
    "R_0"
   ]
  },
  {
   "cell_type": "code",
   "execution_count": 49,
   "id": "338154ce",
   "metadata": {},
   "outputs": [
    {
     "data": {
      "text/plain": [
       "0.00       0.005\n",
       "0.01       0.005\n",
       "0.02       0.005\n",
       "0.03       0.005\n",
       "0.04       0.005\n",
       "           ...  \n",
       "1499.95    0.020\n",
       "1499.96    0.020\n",
       "1499.97    0.020\n",
       "1499.98    0.020\n",
       "1499.99    0.020\n",
       "Length: 150000, dtype: float64"
      ]
     },
     "execution_count": 49,
     "metadata": {},
     "output_type": "execute_result"
    }
   ],
   "source": [
    "beta"
   ]
  },
  {
   "cell_type": "code",
   "execution_count": 25,
   "id": "3f3f5a26",
   "metadata": {},
   "outputs": [
    {
     "ename": "TypeError",
     "evalue": "'Series' object is not callable",
     "output_type": "error",
     "traceback": [
      "\u001b[0;31m---------------------------------------------------------------------------\u001b[0m",
      "\u001b[0;31mTypeError\u001b[0m                                 Traceback (most recent call last)",
      "Input \u001b[0;32mIn [25]\u001b[0m, in \u001b[0;36m<cell line: 1>\u001b[0;34m()\u001b[0m\n\u001b[0;32m----> 1\u001b[0m \u001b[43mbeta\u001b[49m\u001b[43m(\u001b[49m\u001b[38;5;241;43m600.01\u001b[39;49m\u001b[43m)\u001b[49m\n",
      "\u001b[0;31mTypeError\u001b[0m: 'Series' object is not callable"
     ]
    }
   ],
   "source": [
    "beta(600.01)"
   ]
  },
  {
   "cell_type": "code",
   "execution_count": 62,
   "id": "dca7d189",
   "metadata": {},
   "outputs": [
    {
     "name": "stdout",
     "output_type": "stream",
     "text": [
      "600.0\n"
     ]
    }
   ],
   "source": [
    "print(t_transition_branch)"
   ]
  },
  {
   "cell_type": "code",
   "execution_count": 39,
   "id": "84aa1646",
   "metadata": {},
   "outputs": [
    {
     "name": "stdout",
     "output_type": "stream",
     "text": [
      "600.0\n"
     ]
    }
   ],
   "source": [
    "print(t_transition_branch)\n"
   ]
  },
  {
   "cell_type": "code",
   "execution_count": 38,
   "id": "777340b9",
   "metadata": {},
   "outputs": [
    {
     "name": "stdout",
     "output_type": "stream",
     "text": [
      "600.01\n"
     ]
    }
   ],
   "source": [
    "print(tbif)\n"
   ]
  },
  {
   "cell_type": "code",
   "execution_count": 59,
   "id": "1db43a45",
   "metadata": {},
   "outputs": [
    {
     "name": "stdout",
     "output_type": "stream",
     "text": [
      "1282.82\n"
     ]
    }
   ],
   "source": [
    "print(tbif)"
   ]
  },
  {
   "cell_type": "code",
   "execution_count": 68,
   "id": "b59ead95",
   "metadata": {},
   "outputs": [
    {
     "name": "stdout",
     "output_type": "stream",
     "text": [
      "1282.82\n"
     ]
    }
   ],
   "source": [
    "print(beta[beta > betabif].index[1])"
   ]
  },
  {
   "cell_type": "code",
   "execution_count": 67,
   "id": "0522c5a6",
   "metadata": {},
   "outputs": [
    {
     "data": {
      "text/plain": [
       "0.00       0.001000\n",
       "0.01       0.001000\n",
       "0.02       0.001000\n",
       "0.03       0.001000\n",
       "0.04       0.001001\n",
       "             ...   \n",
       "1499.95    0.019999\n",
       "1499.96    0.020000\n",
       "1499.97    0.020000\n",
       "1499.98    0.020000\n",
       "1499.99    0.020000\n",
       "Length: 150000, dtype: float64"
      ]
     },
     "execution_count": 67,
     "metadata": {},
     "output_type": "execute_result"
    }
   ],
   "source": [
    "beta\n"
   ]
  },
  {
   "cell_type": "code",
   "execution_count": 70,
   "id": "12e29382",
   "metadata": {},
   "outputs": [
    {
     "name": "stdout",
     "output_type": "stream",
     "text": [
      "710.54\n"
     ]
    }
   ],
   "source": [
    "print(tbif)"
   ]
  },
  {
   "cell_type": "code",
   "execution_count": 76,
   "id": "3c65fd8d",
   "metadata": {},
   "outputs": [
    {
     "name": "stdout",
     "output_type": "stream",
     "text": [
      "1282.82\n"
     ]
    }
   ],
   "source": [
    "print(tbif)"
   ]
  },
  {
   "cell_type": "code",
   "execution_count": 82,
   "id": "635a91b8",
   "metadata": {},
   "outputs": [
    {
     "name": "stdout",
     "output_type": "stream",
     "text": [
      "710.54\n"
     ]
    }
   ],
   "source": [
    "print(tbif)"
   ]
  },
  {
   "cell_type": "code",
   "execution_count": null,
   "id": "45d6b144",
   "metadata": {},
   "outputs": [],
   "source": []
  }
 ],
 "metadata": {
  "kernelspec": {
   "display_name": "Python 3 (ipykernel)",
   "language": "python",
   "name": "python3"
  },
  "language_info": {
   "codemirror_mode": {
    "name": "ipython",
    "version": 3
   },
   "file_extension": ".py",
   "mimetype": "text/x-python",
   "name": "python",
   "nbconvert_exporter": "python",
   "pygments_lexer": "ipython3",
   "version": "3.9.12"
  }
 },
 "nbformat": 4,
 "nbformat_minor": 5
}
